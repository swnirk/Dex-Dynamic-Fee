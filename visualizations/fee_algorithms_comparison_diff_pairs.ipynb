{
 "cells": [
  {
   "cell_type": "code",
   "execution_count": null,
   "metadata": {},
   "outputs": [],
   "source": [
    "import logging\n",
    "from utility import add_project_root_to_path\n",
    "\n",
    "logging.basicConfig(level=logging.ERROR)\n",
    "\n",
    "add_project_root_to_path()"
   ]
  },
  {
   "cell_type": "code",
   "execution_count": null,
   "metadata": {},
   "outputs": [],
   "source": [
    "# Building experiments configs\n",
    "\n",
    "from experiments.configs import DATA_SOURCE_BY_ALIAS, DEFAULT_UNINFORMED_USERS_CONFIG\n",
    "from experiments.experiment import Experiment\n",
    "from user.informed_user import InformedUser\n",
    "\n",
    "from fee_algorithm.fixed_fee import FixedFee\n",
    "from fee_algorithm.discrete_fee_perfect_oracle import DiscreteFeePerfectOracle\n",
    "from fee_algorithm.based_on_trade_count_fee import BasedOnTradeCountFee\n",
    "from fee_algorithm.adaptive_fee_based_on_block_price_move import AdaptiveBasedOnPreviousBlockPriceMoveFee\n",
    "from experiments.run_multiple_experiments import run_multiple_experiments, get_experiment_key\n",
    "from fee_algorithm.dynamic_fee_amm_for_amm import AMMforAMMfee\n",
    "import pandas as pd\n",
    "\n",
    "from copy import deepcopy\n",
    "\n",
    "fee_algos_to_consider = {\n",
    "    \"fixed_fee\": FixedFee(exchange_fee_rate=0.003), # 30 bps\n",
    "    \"based_on_trade_count_fee\": BasedOnTradeCountFee(a_to_b_exchange_fee_rate=0.003, b_to_a_exchange_fee_rate=0.003), # 30 bps\n",
    "    \"adaptive_based_on_previous_block_price_move_fee\": AdaptiveBasedOnPreviousBlockPriceMoveFee(a_to_b_exchange_fee_rate=0.003, b_to_a_exchange_fee_rate=0.003), # 30 bps\n",
    "    \"discrete_fee_perfect_oracle\": DiscreteFeePerfectOracle(fee_rate_in_arbitrage_direction=0.0045, fee_rate_in_non_arbitrage_direction=0.0015), # 45/15 bps\n",
    "    \"AMM_fee\": AMMforAMMfee(a_to_b_exchange_fee_rate=0.003, b_to_a_exchange_fee_rate=0.003),\n",
    "}"
   ]
  },
  {
   "cell_type": "code",
   "execution_count": null,
   "metadata": {},
   "outputs": [],
   "source": [
    "df_stable_not_stable = pd.read_csv('df_stable_not_stable.csv')\n",
    "df_stable_stable = pd.read_csv('df_stable_stable.csv')\n",
    "df_not_stable_not_stable = pd.read_csv('df_not_stable_not_stable.csv')"
   ]
  },
  {
   "cell_type": "code",
   "execution_count": null,
   "metadata": {},
   "outputs": [],
   "source": [
    "df_not_stable_not_stable.head()"
   ]
  },
  {
   "cell_type": "code",
   "execution_count": null,
   "metadata": {},
   "outputs": [],
   "source": [
    "df_not_stable_not_stable['start_time'] = pd.to_datetime(df_not_stable_not_stable['start_time'])\n",
    "df_not_stable_not_stable['end_time'] = pd.to_datetime(df_not_stable_not_stable['end_time'])\n",
    "\n",
    "df_stable_not_stable['start_time'] = pd.to_datetime(df_stable_not_stable['start_time'])\n",
    "df_stable_not_stable['end_time'] = pd.to_datetime(df_stable_not_stable['end_time'])\n",
    "\n",
    "df_stable_stable['start_time'] = pd.to_datetime(df_stable_stable['start_time'])\n",
    "df_stable_stable['end_time'] = pd.to_datetime(df_stable_stable['end_time'])"
   ]
  },
  {
   "cell_type": "code",
   "execution_count": null,
   "metadata": {},
   "outputs": [],
   "source": [
    "df_stable_not_stable['pair_description'] = 'stable_not_stable'\n",
    "df_stable_stable['pair_description'] = 'stable_stable'\n",
    "df_not_stable_not_stable['pair_description'] = 'not_stable_not_stable'\n",
    "\n",
    "df_all_pairs = pd.concat(\n",
    "    [\n",
    "    df_stable_not_stable, \n",
    "    df_stable_stable, \n",
    "    df_not_stable_not_stable\n",
    "    ], \n",
    "    ignore_index=True,\n",
    ")"
   ]
  },
  {
   "cell_type": "code",
   "execution_count": null,
   "metadata": {},
   "outputs": [],
   "source": [
    "df_all_pairs"
   ]
  },
  {
   "cell_type": "code",
   "execution_count": null,
   "metadata": {},
   "outputs": [],
   "source": [
    "print(f\"Number of segments to save: {df_all_pairs[[\"Period\", \"Pair\"]].drop_duplicates().shape[0]}\")"
   ]
  },
  {
   "cell_type": "markdown",
   "metadata": {},
   "source": [
    "### Stable/Non-Stable Pairs"
   ]
  },
  {
   "cell_type": "code",
   "execution_count": null,
   "metadata": {},
   "outputs": [],
   "source": [
    "from experiments.experiment import HistoricalDataDescription\n",
    "\n",
    "experiment_configs = {}\n",
    "\n",
    "for i, row in df_all_pairs.iterrows():\n",
    "    data_source = HistoricalDataDescription(\n",
    "        start_time=row['start_time'],\n",
    "        end_time=row['end_time'], \n",
    "        A_symbol=row['A_symbol'], \n",
    "        B_symbol=row['B_symbol'],\n",
    "        cache_data=True,\n",
    "    )\n",
    "    for fee_algo_alias, fee_algo in fee_algos_to_consider.items():\n",
    "        # if (len(experiment_configs) > 200):\n",
    "        #     break\n",
    "        experiment_configs[\n",
    "            get_experiment_key(\n",
    "                {\n",
    "                    \"period_alias\": str(row['Market_type']),\n",
    "                    \"fee_algorithm\": fee_algo_alias,\n",
    "                    \"pair_description\": str(row[\"pair_description\"]),\n",
    "                    \"A_symbol\": str(row[\"A_symbol\"]),\n",
    "                    \"B_symbol\": str(row[\"B_symbol\"]),\n",
    "                    \"start_time\": str(row[\"start_time\"]),\n",
    "                    \"end_time\": str(row[\"end_time\"]),\n",
    "                }\n",
    "            )\n",
    "        ] = Experiment(\n",
    "            data=data_source,\n",
    "            fee_algorithm=deepcopy(fee_algo),\n",
    "            uninformed_users=deepcopy(DEFAULT_UNINFORMED_USERS_CONFIG),\n",
    "            informed_user=InformedUser(),\n",
    "        )"
   ]
  },
  {
   "cell_type": "code",
   "execution_count": null,
   "metadata": {},
   "outputs": [],
   "source": [
    "from pprint import pprint\n",
    "\n",
    "first_key = list(experiment_configs.keys())[0]\n",
    "pprint(experiment_configs[first_key])"
   ]
  },
  {
   "cell_type": "code",
   "execution_count": null,
   "metadata": {},
   "outputs": [],
   "source": [
    "print(\n",
    "    f\"Total experiments to run: {len(experiment_configs)}\"\n",
    ")"
   ]
  },
  {
   "cell_type": "code",
   "execution_count": null,
   "metadata": {},
   "outputs": [],
   "source": [
    "experiment_results = run_multiple_experiments(\n",
    "    experiments=experiment_configs,\n",
    "    return_intermediate_results=False,\n",
    "    parallel=True,\n",
    "    max_workers=8, \n",
    "    # parallel=False,\n",
    ")"
   ]
  },
  {
   "cell_type": "code",
   "execution_count": null,
   "metadata": {},
   "outputs": [],
   "source": [
    "from visualizations.compare_fee_algoritms import get_experiments_summary_by_description\n",
    "\n",
    "combined_df = get_experiments_summary_by_description(\n",
    "    experiment_results,\n",
    ").sort_values(by=[\"period_alias\", \"fee_algorithm\", \"pair_description\"])\n",
    "\n",
    "display(combined_df)"
   ]
  },
  {
   "cell_type": "code",
   "execution_count": null,
   "metadata": {},
   "outputs": [],
   "source": []
  }
 ],
 "metadata": {
  "kernelspec": {
   "display_name": "Python 3",
   "language": "python",
   "name": "python3"
  },
  "language_info": {
   "codemirror_mode": {
    "name": "ipython",
    "version": 3
   },
   "file_extension": ".py",
   "mimetype": "text/x-python",
   "name": "python",
   "nbconvert_exporter": "python",
   "pygments_lexer": "ipython3",
   "version": "3.12.9"
  }
 },
 "nbformat": 4,
 "nbformat_minor": 2
}
