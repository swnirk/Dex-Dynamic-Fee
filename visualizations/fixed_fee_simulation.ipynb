{
 "cells": [
  {
   "cell_type": "code",
   "execution_count": 1,
   "metadata": {},
   "outputs": [],
   "source": [
    "import logging\n",
    "from utility import add_project_root_to_path\n",
    "\n",
    "logging.basicConfig(level=logging.ERROR)\n",
    "\n",
    "add_project_root_to_path()"
   ]
  },
  {
   "cell_type": "code",
   "execution_count": 2,
   "metadata": {},
   "outputs": [
    {
     "name": "stdout",
     "output_type": "stream",
     "text": [
      "A symbol candles count: 2593\n",
      "B symbol candles count: 2593\n",
      "Joined candles count: 2593\n"
     ]
    },
    {
     "data": {
      "text/html": [
       "<div>\n",
       "<style scoped>\n",
       "    .dataframe tbody tr th:only-of-type {\n",
       "        vertical-align: middle;\n",
       "    }\n",
       "\n",
       "    .dataframe tbody tr th {\n",
       "        vertical-align: top;\n",
       "    }\n",
       "\n",
       "    .dataframe thead th {\n",
       "        text-align: right;\n",
       "    }\n",
       "</style>\n",
       "<table border=\"1\" class=\"dataframe\">\n",
       "  <thead>\n",
       "    <tr style=\"text-align: right;\">\n",
       "      <th></th>\n",
       "      <th>time</th>\n",
       "      <th>price_A</th>\n",
       "      <th>price_B</th>\n",
       "    </tr>\n",
       "  </thead>\n",
       "  <tbody>\n",
       "    <tr>\n",
       "      <th>0</th>\n",
       "      <td>2024-11-01 11:00:00</td>\n",
       "      <td>2518.75</td>\n",
       "      <td>69989.64</td>\n",
       "    </tr>\n",
       "    <tr>\n",
       "      <th>1</th>\n",
       "      <td>2024-11-01 11:05:00</td>\n",
       "      <td>2522.41</td>\n",
       "      <td>70150.00</td>\n",
       "    </tr>\n",
       "    <tr>\n",
       "      <th>2</th>\n",
       "      <td>2024-11-01 11:10:00</td>\n",
       "      <td>2520.49</td>\n",
       "      <td>70056.00</td>\n",
       "    </tr>\n",
       "    <tr>\n",
       "      <th>3</th>\n",
       "      <td>2024-11-01 11:15:00</td>\n",
       "      <td>2522.80</td>\n",
       "      <td>70176.00</td>\n",
       "    </tr>\n",
       "    <tr>\n",
       "      <th>4</th>\n",
       "      <td>2024-11-01 11:20:00</td>\n",
       "      <td>2521.52</td>\n",
       "      <td>70118.02</td>\n",
       "    </tr>\n",
       "    <tr>\n",
       "      <th>...</th>\n",
       "      <td>...</td>\n",
       "      <td>...</td>\n",
       "      <td>...</td>\n",
       "    </tr>\n",
       "    <tr>\n",
       "      <th>2588</th>\n",
       "      <td>2024-11-10 10:40:00</td>\n",
       "      <td>3191.52</td>\n",
       "      <td>79430.00</td>\n",
       "    </tr>\n",
       "    <tr>\n",
       "      <th>2589</th>\n",
       "      <td>2024-11-10 10:45:00</td>\n",
       "      <td>3195.74</td>\n",
       "      <td>79451.30</td>\n",
       "    </tr>\n",
       "    <tr>\n",
       "      <th>2590</th>\n",
       "      <td>2024-11-10 10:50:00</td>\n",
       "      <td>3200.80</td>\n",
       "      <td>79552.03</td>\n",
       "    </tr>\n",
       "    <tr>\n",
       "      <th>2591</th>\n",
       "      <td>2024-11-10 10:55:00</td>\n",
       "      <td>3203.40</td>\n",
       "      <td>79544.00</td>\n",
       "    </tr>\n",
       "    <tr>\n",
       "      <th>2592</th>\n",
       "      <td>2024-11-10 11:00:00</td>\n",
       "      <td>3200.27</td>\n",
       "      <td>79540.75</td>\n",
       "    </tr>\n",
       "  </tbody>\n",
       "</table>\n",
       "<p>2593 rows × 3 columns</p>\n",
       "</div>"
      ],
      "text/plain": [
       "                    time  price_A   price_B\n",
       "0    2024-11-01 11:00:00  2518.75  69989.64\n",
       "1    2024-11-01 11:05:00  2522.41  70150.00\n",
       "2    2024-11-01 11:10:00  2520.49  70056.00\n",
       "3    2024-11-01 11:15:00  2522.80  70176.00\n",
       "4    2024-11-01 11:20:00  2521.52  70118.02\n",
       "...                  ...      ...       ...\n",
       "2588 2024-11-10 10:40:00  3191.52  79430.00\n",
       "2589 2024-11-10 10:45:00  3195.74  79451.30\n",
       "2590 2024-11-10 10:50:00  3200.80  79552.03\n",
       "2591 2024-11-10 10:55:00  3203.40  79544.00\n",
       "2592 2024-11-10 11:00:00  3200.27  79540.75\n",
       "\n",
       "[2593 rows x 3 columns]"
      ]
     },
     "execution_count": 2,
     "metadata": {},
     "output_type": "execute_result"
    }
   ],
   "source": [
    "from historical_data import get_historical_prices_for_two_assets\n",
    "from datetime import datetime\n",
    "\n",
    "stable_coin_symbol = \"USDT\"\n",
    "A_symbol = \"ETH\"\n",
    "B_symbol = \"BTC\"\n",
    "interval = \"5m\"\n",
    "\n",
    "start_time = datetime(2024, 11, 1, 12, 0, 0)\n",
    "end_time = datetime(2024, 11, 10, 12, 0, 0)\n",
    "historical_prices = get_historical_prices_for_two_assets(\n",
    "    stable_coin_symbol, A_symbol, B_symbol, interval, start_time, end_time\n",
    ")\n",
    "\n",
    "historical_prices"
   ]
  },
  {
   "cell_type": "code",
   "execution_count": 3,
   "metadata": {},
   "outputs": [],
   "source": [
    "from user.informed_user import InformedUser\n",
    "from user.uninformed_user import UninformedUser\n",
    "from simulation.simulation import Simulation\n",
    "\n",
    "informed_user = InformedUser()\n",
    "uninformed_user = UninformedUser()"
   ]
  },
  {
   "cell_type": "code",
   "execution_count": 4,
   "metadata": {},
   "outputs": [
    {
     "name": "stdout",
     "output_type": "stream",
     "text": [
      "Initial quantity of A: 96526.26406406211, Initial quantity of B: 3473.7359359378897\n"
     ]
    }
   ],
   "source": [
    "def get_initial_pool_sizes(price_A: float, price_B: float, total_pool: float) -> tuple:\n",
    "    '''\n",
    "    Returns the initial pool sizes for the two assets given the prices of the two assets\n",
    "    '''\n",
    "    r = price_A / price_B\n",
    "    q_A = total_pool / (r + 1)\n",
    "    q_B = total_pool - q_A\n",
    "    return q_A, q_B\n",
    "\n",
    "initial_quantity_A, initial_quantity_B = get_initial_pool_sizes(\n",
    "    historical_prices[\"price_A\"].iloc[0], historical_prices[\"price_B\"].iloc[0], 100000\n",
    ")\n",
    "\n",
    "print(f\"Initial quantity of A: {initial_quantity_A}, Initial quantity of B: {initial_quantity_B}\")"
   ]
  },
  {
   "cell_type": "code",
   "execution_count": 5,
   "metadata": {},
   "outputs": [],
   "source": [
    "from pool.simple_pool import SimplePool\n",
    "from pool.abstract_pool import PoolLiquidityState\n",
    "\n",
    "pool = SimplePool(\n",
    "    liquidity_state=PoolLiquidityState(\n",
    "        quantity_a=initial_quantity_A,\n",
    "        quantity_b=initial_quantity_B\n",
    "    ),\n",
    "    alpha=0.1,\n",
    ")"
   ]
  },
  {
   "cell_type": "code",
   "execution_count": 6,
   "metadata": {},
   "outputs": [],
   "source": [
    "import numpy as np\n",
    "\n",
    "np.random.seed(0)\n",
    "\n",
    "simulation = Simulation(\n",
    "    pool=pool,\n",
    "    network_fee=0,\n",
    ")\n",
    "\n",
    "simulation_result = simulation.simulate(\n",
    "    p_UU=0.5,\n",
    "    informed_user=informed_user,\n",
    "    uninformed_user=uninformed_user,\n",
    "    prices=historical_prices,\n",
    ")"
   ]
  },
  {
   "cell_type": "code",
   "execution_count": 7,
   "metadata": {},
   "outputs": [
    {
     "data": {
      "text/plain": [
       "SimulationState(user_states={<UserType.INFORMED: 1>: ParticipantState(total_profit=np.float64(267639.061954075)), <UserType.UNINFORMED: 2>: ParticipantState(total_profit=np.float64(-35263.42113315862))}, profits_LP=ParticipantState(total_profit=np.float64(-232375.64082091642)))"
      ]
     },
     "execution_count": 7,
     "metadata": {},
     "output_type": "execute_result"
    }
   ],
   "source": [
    "simulation_result.snapshots[-1]"
   ]
  },
  {
   "cell_type": "code",
   "execution_count": 8,
   "metadata": {},
   "outputs": [
    {
     "data": {
      "image/png": "[encoded data removed]",
      "text/plain": [
       "<Figure size 1000x600 with 1 Axes>"
      ]
     },
     "metadata": {},
     "output_type": "display_data"
    }
   ],
   "source": [
    "# Plot all participants' profits\n",
    "import seaborn as sns\n",
    "import matplotlib.pyplot as plt\n",
    "from simulation.simulation import UserType, SimulationResult\n",
    "\n",
    "fig, ax = plt.subplots(figsize=(10, 6))\n",
    "\n",
    "def extract_user_profits(\n",
    "    simulation_result: SimulationResult, user_type: UserType\n",
    ") -> list:\n",
    "    res = []\n",
    "    for snapshot in simulation_result.snapshots:\n",
    "        res.append(snapshot.user_states[user_type].total_profit)\n",
    "    return res\n",
    "        \n",
    "def extract_lp_profits(simulation_result: SimulationResult) -> list:\n",
    "    res = []\n",
    "    for snapshot in simulation_result.snapshots:\n",
    "        res.append(snapshot.profits_LP.total_profit)\n",
    "    return res\n",
    "\n",
    "sns.lineplot(\n",
    "    x=simulation_result.timestamps,\n",
    "    y=extract_user_profits(simulation_result, UserType.INFORMED),\n",
    "    ax=ax,\n",
    "    label=\"Informed User\",\n",
    ")\n",
    "\n",
    "sns.lineplot(\n",
    "    x=simulation_result.timestamps,\n",
    "    y=extract_user_profits(simulation_result, UserType.UNINFORMED),\n",
    "    ax=ax,\n",
    "    label=\"Uninformed User\",\n",
    ")\n",
    "\n",
    "\n",
    "sns.lineplot(\n",
    "    x=simulation_result.timestamps,\n",
    "    y=extract_lp_profits(simulation_result),\n",
    "    ax=ax,\n",
    "    label=\"Liquidity Provider\",\n",
    ")\n",
    "\n",
    "plt.xlabel(\"Time\")\n",
    "plt.ylabel(\"Profit\")\n",
    "\n",
    "plt.xticks(rotation=45)\n",
    "\n",
    "plt.title(\"Profits of market participants\")\n",
    "\n",
    "plt.show()"
   ]
  },
  {
   "cell_type": "code",
   "execution_count": null,
   "metadata": {},
   "outputs": [],
   "source": []
  }
 ],
 "metadata": {
  "kernelspec": {
   "display_name": "dex_dynamic_fee_env",
   "language": "python",
   "name": "python3"
  },
  "language_info": {
   "codemirror_mode": {
    "name": "ipython",
    "version": 3
   },
   "file_extension": ".py",
   "mimetype": "text/x-python",
   "name": "python",
   "nbconvert_exporter": "python",
   "pygments_lexer": "ipython3",
   "version": "3.12.5"
  }
 },
 "nbformat": 4,
 "nbformat_minor": 2
}
