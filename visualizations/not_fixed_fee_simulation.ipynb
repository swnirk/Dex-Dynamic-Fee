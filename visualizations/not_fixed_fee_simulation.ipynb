{
 "cells": [
  {
   "cell_type": "code",
   "execution_count": null,
   "metadata": {},
   "outputs": [],
   "source": [
    "import logging\n",
    "from utility import add_project_root_to_path\n",
    "\n",
    "logging.basicConfig(level=logging.ERROR)\n",
    "\n",
    "add_project_root_to_path()"
   ]
  },
  {
   "cell_type": "code",
   "execution_count": null,
   "metadata": {},
   "outputs": [],
   "source": [
    "# Building experiments configs\n",
    "\n",
    "from experiments.configs import DATA_SOURCE_BY_ALIAS, DEFAULT_UNINFORMED_USERS_CONFIG\n",
    "from experiments.experiment import Experiment\n",
    "from user.informed_user import InformedUser\n",
    "\n",
    "from fee_algorithm.fixed_fee import FixedFee\n",
    "from fee_algorithm.discrete_fee_perfect_oracle import DiscreteFeePerfectOracle\n",
    "from fee_algorithm.continuous_fee_perfect_oracle import ContinuousFeePerfectOracle\n",
    "from fee_algorithm.fee_based_on_historical_price import FeeBasedOnHistoricalPrice\n",
    "\n",
    "from copy import deepcopy\n",
    "\n",
    "fee_algos_to_consider = {\n",
    "    \"fixed_fee\": FixedFee(exchange_fee_rate=0.003), # 30 bps\n",
    "    \"discrete_fee_perfect_oracle\": DiscreteFeePerfectOracle(fee_rate_in_arbitrage_direction=0.0045, fee_rate_in_non_arbitrage_direction=0.0015), # 45/15 bps\n",
    "    \"continuous_fee_perfect_oracle\": ContinuousFeePerfectOracle(default_fee_rate=0.003), # 30 bps\n",
    "    \"fee_based_on_historical_price\": FeeBasedOnHistoricalPrice(alpha=0.3, fee_in_increasing_deviation_direction=0.0045, fee_in_decreasing_deviation_direction=0.0015), # 45/15 bps\n",
    "}\n",
    "\n",
    "experiment_configs = {}\n",
    "\n",
    "for period_alias in DATA_SOURCE_BY_ALIAS.keys():\n",
    "    data_source = DATA_SOURCE_BY_ALIAS[period_alias]\n",
    "    for fee_algo_alias, fee_algo in fee_algos_to_consider.items():\n",
    "        experiment_name = f\"{period_alias}_{fee_algo_alias}\"\n",
    "        experiment_configs[experiment_name] = Experiment(\n",
    "            data=data_source,\n",
    "            fee_algorithm=deepcopy(fee_algo),\n",
    "            uninformed_users=deepcopy(DEFAULT_UNINFORMED_USERS_CONFIG),\n",
    "            informed_user=InformedUser(),\n",
    "        )"
   ]
  },
  {
   "cell_type": "code",
   "execution_count": null,
   "metadata": {},
   "outputs": [],
   "source": [
    "from pprint import pprint\n",
    "\n",
    "pprint(experiment_configs['volatile_market_fixed_fee'])"
   ]
  },
  {
   "cell_type": "code",
   "execution_count": null,
   "metadata": {},
   "outputs": [],
   "source": [
    "pprint(experiment_configs['volatile_market_fixed_fee'])"
   ]
  },
  {
   "cell_type": "code",
   "execution_count": null,
   "metadata": {},
   "outputs": [],
   "source": [
    "from experiments.run_experiment import run_experiment\n",
    "from experiments.experiment import ExperimentResult\n",
    "import numpy as np\n",
    "\n",
    "experiment_results: dict[str, ExperimentResult] = {}\n",
    "\n",
    "\n",
    "for experiment_name, experiment_config in experiment_configs.items():\n",
    "    np.random.seed(0)\n",
    "    experiment_results[experiment_name] = run_experiment(experiment_config)"
   ]
  },
  {
   "cell_type": "code",
   "execution_count": null,
   "metadata": {},
   "outputs": [],
   "source": [
    "import matplotlib.pyplot as plt\n",
    "\n",
    "plt.figure(figsize=(12, 6))\n",
    "\n",
    "for period_alias in DATA_SOURCE_BY_ALIAS.keys():\n",
    "    experiment_name = f\"{period_alias}_fixed_fee\"\n",
    "    experiment_result = experiment_results[experiment_name]\n",
    "    plt.plot(experiment_result.data[\"price_B\"], label=period_alias)\n",
    "    plt.title(\"Price of B over time\")\n",
    "\n",
    "plt.ylabel(\"Price of B\")\n",
    "plt.xlabel(\"Candle index\")\n",
    "# plt.yscale(\"log\")\n",
    "\n",
    "plt.xticks(rotation=45)\n",
    "\n",
    "plt.legend(loc=\"lower right\")\n",
    "\n",
    "plt.show()"
   ]
  },
  {
   "cell_type": "markdown",
   "metadata": {},
   "source": [
    "### Results"
   ]
  },
  {
   "cell_type": "code",
   "execution_count": null,
   "metadata": {},
   "outputs": [],
   "source": [
    "from visualizations.compare_fee_algoritms import plot_participants_markouts, plot_impermanent_loss, get_experiment_summary"
   ]
  },
  {
   "cell_type": "code",
   "execution_count": null,
   "metadata": {},
   "outputs": [],
   "source": [
    "def plot_results_for_period(period_alias: str, fee_algos_to_consider: list[str]):\n",
    "    plot_participants_markouts(\n",
    "        period_alias,\n",
    "        {\n",
    "            f\"{fee_algo_alias}\": experiment_results[f\"{period_alias}_{fee_algo_alias}\"]\n",
    "            for fee_algo_alias in fee_algos_to_consider\n",
    "        }\n",
    "    )\n",
    "    plot_impermanent_loss(\n",
    "        period_alias,\n",
    "        {\n",
    "            f\"{fee_algo_alias}\": experiment_results[f\"{period_alias}_{fee_algo_alias}\"]\n",
    "            for fee_algo_alias in fee_algos_to_consider\n",
    "        }\n",
    "    )\n",
    "\n",
    "    summary = get_experiment_summary(\n",
    "        {\n",
    "            f\"{fee_algo_alias}\": experiment_results[f\"{period_alias}_{fee_algo_alias}\"]\n",
    "            for fee_algo_alias in fee_algos_to_consider\n",
    "        }\n",
    "    )\n",
    "\n",
    "    display(summary)"
   ]
  },
  {
   "cell_type": "markdown",
   "metadata": {},
   "source": [
    "### Results for bull market"
   ]
  },
  {
   "cell_type": "code",
   "execution_count": null,
   "metadata": {},
   "outputs": [],
   "source": [
    "plot_results_for_period(\"bull_market\", list(fee_algos_to_consider.keys()))"
   ]
  },
  {
   "cell_type": "markdown",
   "metadata": {},
   "source": [
    "### Results for calm market"
   ]
  },
  {
   "cell_type": "code",
   "execution_count": null,
   "metadata": {},
   "outputs": [],
   "source": [
    "plot_results_for_period(\"calm_market\", list(fee_algos_to_consider.keys()))"
   ]
  },
  {
   "cell_type": "markdown",
   "metadata": {},
   "source": [
    "### Results for bear market"
   ]
  },
  {
   "cell_type": "code",
   "execution_count": null,
   "metadata": {},
   "outputs": [],
   "source": [
    "plot_results_for_period(\"bear_market\", list(fee_algos_to_consider.keys()))"
   ]
  },
  {
   "cell_type": "markdown",
   "metadata": {},
   "source": [
    "### Results for volatile market"
   ]
  },
  {
   "cell_type": "code",
   "execution_count": null,
   "metadata": {},
   "outputs": [],
   "source": [
    "plot_results_for_period(\"volatile_market\", list(fee_algos_to_consider.keys()))"
   ]
  },
  {
   "cell_type": "code",
   "execution_count": null,
   "metadata": {},
   "outputs": [],
   "source": [
    "pprint(experiment_results[\"volatile_market_fixed_fee\"].simulation_result.snapshots[-1])"
   ]
  },
  {
   "cell_type": "code",
   "execution_count": null,
   "metadata": {},
   "outputs": [],
   "source": [
    "pprint(experiment_results[\"volatile_market_fixed_fee\"].simulation_result.snapshots[-3])"
   ]
  },
  {
   "cell_type": "code",
   "execution_count": null,
   "metadata": {},
   "outputs": [],
   "source": []
  }
 ],
 "metadata": {
  "kernelspec": {
   "display_name": "base",
   "language": "python",
   "name": "python3"
  },
  "language_info": {
   "codemirror_mode": {
    "name": "ipython",
    "version": 3
   },
   "file_extension": ".py",
   "mimetype": "text/x-python",
   "name": "python",
   "nbconvert_exporter": "python",
   "pygments_lexer": "ipython3",
   "version": "3.12.5"
  }
 },
 "nbformat": 4,
 "nbformat_minor": 2
}
