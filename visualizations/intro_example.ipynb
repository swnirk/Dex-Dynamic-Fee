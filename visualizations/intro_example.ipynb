{
 "cells": [
  {
   "cell_type": "code",
   "execution_count": 1,
   "metadata": {},
   "outputs": [],
   "source": [
    "import logging\n",
    "from utility import add_project_root_to_path\n",
    "\n",
    "logging.basicConfig(level=logging.ERROR)\n",
    "\n",
    "add_project_root_to_path()"
   ]
  },
  {
   "cell_type": "code",
   "execution_count": 2,
   "metadata": {},
   "outputs": [],
   "source": [
    "from user.informed_user import InformedUser\n",
    "from pool.liquidity_state import PoolLiquidityState\n",
    "from pool.pool import Pool\n",
    "from fee_algorithm.fixed_fee import FixedFee\n",
    "from prices_snapshot import PricesSnapshot\n",
    "\n",
    "pool = Pool(\n",
    "    liquidity_state=PoolLiquidityState(\n",
    "        quantity_a=10,\n",
    "        quantity_b=20000,\n",
    "    ),\n",
    "    fee_algorithm=FixedFee(0),\n",
    ")\n",
    "\n",
    "prices = PricesSnapshot(\n",
    "    price_a=2500, # ETHUSDT\n",
    "    price_b=1, # USDTUSDT\n",
    ")"
   ]
  },
  {
   "cell_type": "code",
   "execution_count": 3,
   "metadata": {},
   "outputs": [],
   "source": [
    "informed_user_action = InformedUser().get_user_action(\n",
    "    pool=pool,\n",
    "    network_fee=0,\n",
    "    prices=prices\n",
    ")"
   ]
  },
  {
   "cell_type": "code",
   "execution_count": 4,
   "metadata": {},
   "outputs": [
    {
     "name": "stdout",
     "output_type": "stream",
     "text": [
      "UserAction(delta_x=np.float64(1.0557280900008408), delta_y=np.float64(-2360.6797749978978), fee_x=0, fee_y=np.float64(0.0), network_fee=0)\n"
     ]
    }
   ],
   "source": [
    "print(informed_user_action)"
   ]
  },
  {
   "cell_type": "code",
   "execution_count": null,
   "metadata": {},
   "outputs": [],
   "source": []
  }
 ],
 "metadata": {
  "language_info": {
   "name": "python"
  }
 },
 "nbformat": 4,
 "nbformat_minor": 2
}
